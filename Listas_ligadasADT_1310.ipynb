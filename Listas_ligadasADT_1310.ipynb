{
  "nbformat": 4,
  "nbformat_minor": 0,
  "metadata": {
    "colab": {
      "name": "Listas ligadasADT_1310.ipynb",
      "provenance": []
    },
    "kernelspec": {
      "name": "python3",
      "display_name": "Python 3"
    },
    "language_info": {
      "name": "python"
    }
  },
  "cells": [
    {
      "cell_type": "markdown",
      "metadata": {
        "id": "KgaSBeB00iN6"
      },
      "source": [
        "# Ejerciciso con la clase nodo \n",
        "\n",
        "*  Crear un nodo\n",
        "   - imprimir el valor del nodo\n",
        "   - crear dos nodos 10, 20\n",
        "   - imprimir el valor del priermo\n",
        "   - imprimir el valor del segundo\n",
        "     Trasnversal\n",
        "\n",
        "- Despues hacer lo mismo pero con 4 nodos  10, 20, 30, 40\n",
        "     - imprimir el valor del nodo\n",
        "     - crear dos nodos 10, 20\n",
        "     - imprimir el valor del priermo\n",
        "    imprimir el valor del segundo\n",
        "     Trasnversal\n",
        "     - insertar el nodo 25, despues del nodo 20 y antes del nodo 30\n",
        "\n",
        "\n",
        "### Todo esto antes de ir a la escritura formal del ADT lista ligada\n",
        "\n"
      ]
    },
    {
      "cell_type": "code",
      "metadata": {
        "id": "d548Mbyf0Z4H"
      },
      "source": [
        "class Nodo:\n",
        "    def __init__( self , value , siguiente = None ):\n",
        "        self.data = value\n",
        "        self.next = siguiente\n"
      ],
      "execution_count": null,
      "outputs": []
    },
    {
      "cell_type": "code",
      "metadata": {
        "colab": {
          "base_uri": "https://localhost:8080/"
        },
        "id": "jJ9X-lfX1tYK",
        "outputId": "757cbf91-607e-47cb-d2ab-a6a7fa8f1040"
      },
      "source": [
        "head = Nodo(10)\n",
        "print(head.data)"
      ],
      "execution_count": null,
      "outputs": [
        {
          "output_type": "stream",
          "name": "stdout",
          "text": [
            "10\n"
          ]
        }
      ]
    },
    {
      "cell_type": "code",
      "metadata": {
        "colab": {
          "base_uri": "https://localhost:8080/"
        },
        "id": "uIpbU1rJ2ehA",
        "outputId": "c1995b01-4d60-42d8-a857-86caab5f609a"
      },
      "source": [
        "head = Nodo(10)\n",
        "head.next = Nodo(20)\n",
        "print(f\"Primero{ head.data }\")\n",
        "print(f\"Primero{ head.next.data }\")\n",
        "\n",
        "# lo mismo pero ahorrando codigo \n",
        "print( \"Lo mismo, pero ahorrando codigo\")\n",
        "head = Nodo ((10) , Nodo (20) )\n",
        "print(f\"Primero{ head.data }\")\n",
        "print(f\"Primero{ head.next.data }\") \n",
        "\n",
        "# Treansversal, hacer el recorrido de los nodos de una lista con curr_node\n",
        "curr_node = head\n",
        "while curr_node != None:\n",
        "    print(f\"| {curr_node.data } | ----> \" , end ='')\n",
        "    curr_node = curr_node.next\n",
        "print(\"\")\n",
        "\n",
        "\n"
      ],
      "execution_count": null,
      "outputs": [
        {
          "output_type": "stream",
          "name": "stdout",
          "text": [
            "Primero10\n",
            "Primero20\n",
            "Lo mismo, pero ahorrando codigo\n",
            "Primero10\n",
            "Primero20\n",
            "| 10 | ----> | 20 | ----> \n"
          ]
        }
      ]
    },
    {
      "cell_type": "code",
      "metadata": {
        "colab": {
          "base_uri": "https://localhost:8080/"
        },
        "id": "81sJRAYH66Yr",
        "outputId": "68e70c77-dbce-4e8e-919e-5aaf32e7587f"
      },
      "source": [
        "# Ahora lo miso pero para 4 nodos\n",
        "head = Nodo (10, Nodo(20,Nodo(30,Nodo(40))))\n",
        "#Nodo(valor,siguiente)\n",
        "#Transversal\n",
        "curr_node = head\n",
        "while curr_node != None:\n",
        "    print(f\"| {curr_node.data } | ----> \" , end ='')\n",
        "    curr_node = curr_node.next\n",
        "print(\"\")\n",
        "# Imprimir el 1ro\n",
        "print(head.data)\n",
        "# Imprimir el ultimo\n",
        "curr_node = head\n",
        "while curr_node.next != None:\n",
        "    curr_node = curr_node.next\n",
        "print(curr_node.data)\n",
        "\n",
        "# insertar el nodo 25, despues del nodo 20 y antes del noto 30\n",
        "curr_node = head \n",
        "while curr_node.data != 20:\n",
        "    curr_node = curr_node.next\n",
        "print(curr_node.data)\n",
        "\n",
        "#crear el nodo 25\n",
        "\n",
        "curr_node.next = Nodo(25, curr_node.next)\n",
        "print(\"Despues de insertar 25\")\n",
        "\n",
        "#Transversal\n",
        "curr_node = head\n",
        "while curr_node != None:\n",
        "    print(f\"| {curr_node.data } | ----> \" , end ='')\n",
        "    curr_node = curr_node.next\n",
        "print(\"\")\n",
        "\n"
      ],
      "execution_count": null,
      "outputs": [
        {
          "output_type": "stream",
          "name": "stdout",
          "text": [
            "| 10 | ----> | 20 | ----> | 30 | ----> | 40 | ----> \n",
            "10\n",
            "40\n",
            "20\n",
            "Despues de insertar 25\n",
            "| 10 | ----> | 20 | ----> | 25 | ----> | 30 | ----> | 40 | ----> \n"
          ]
        }
      ]
    },
    {
      "cell_type": "code",
      "metadata": {
        "id": "dKAnilutcveJ"
      },
      "source": [
        "class LinkedList:\n",
        "    def __init__ ( self ):\n",
        "        self.head = None # igual a lista vacia\n",
        "# regresa un     si la lista esta vacia, y esta vacia si esta apuntando a nada\n",
        "    def is_empty( self ):\n",
        "            return self.head == None\n",
        "# metodo que regresa el ultimo elemento o nodo \n",
        "    def get_tail( self ):\n",
        "        if self.is_empty():\n",
        "                return None\n",
        "        else:\n",
        "            curr_node = self.head\n",
        "            while curr_node.next != None:\n",
        "                curr_node = curr_node.next\n",
        "            return curr_node\n",
        "# metodo append, agrega un elemento al final, posicionarse al final y hacer las operaciones\n",
        "    def append( self , value ):\n",
        "        if self.head == None:\n",
        "            self.head = Nodo( value )\n",
        "        else:\n",
        "            curr_node = self.head\n",
        "            while curr_node.next != None:\n",
        "                curr_node = curr_node.next\n",
        "            curr_node.next = Nodo(value)\n",
        "\n",
        "    def transversal( self):\n",
        "        curr_node = self.head\n",
        "        while curr_node != None:\n",
        "           print(f\"| { curr_node.data} | ---> \", end = \"\")\n",
        "           curr_node == curr_node.next\n",
        "        print(\"\")\n",
        "\n",
        "    def remove (self, value):\n",
        "        if self.head == None:\n",
        "            print(\"liesta viaca, no se puede remover nada\")\n",
        "        else:\n",
        "            curr_node = self.head\n",
        "            aux = None # declarando variable\n",
        "            while curr_node.data != value : # revisar cuando el valor no exista\n",
        "                aux = curr_node\n",
        "                curr_node = curr_node.next\n",
        "\n",
        "            if curr_node != None:\n",
        "                aux.next = curr_node.next\n",
        "                curr_node = None # para liberar memoria\n",
        "\n",
        "    def preppend(self , value ):\n",
        "        if self.head == None:\n",
        "            print(\" vacio, no se puede hacer prepend\")\n",
        "        else:\n",
        "            aux = self.head\n",
        "            self.head = Nodo( value , aux)\n",
        "\n",
        "\n",
        "\n"
      ],
      "execution_count": 23,
      "outputs": []
    },
    {
      "cell_type": "code",
      "metadata": {
        "colab": {
          "base_uri": "https://localhost:8080/",
          "height": 132
        },
        "id": "kdzfuiCJfbCA",
        "outputId": "afe5965e-4764-42df-d3bf-47a82baa5eb7"
      },
      "source": [
        "# probando el contructor y el tail\n",
        "\n",
        "lista = LinkedList()\n",
        "if lista.is_empty():\n",
        "    print(\"la lista esta vacia\")\n",
        "else:\n",
        "    print(\"la lista no esta vacia\")\n",
        "\n",
        "lista.append(10)\n",
        "lista.append(20)\n",
        "lista.append(30)\n",
        "lista.append(40)\n",
        "lista.append(60)\n",
        "\n",
        "\n",
        "nodo = lista.get_tail()\n",
        "if nodo != None:\n",
        "    print(nodo.data)\n",
        "else:\n",
        "    print(\"lista esta vacia\")\n",
        "\n",
        "lista.transversal()\n",
        "lista.remove(10)\n",
        "lista.transversal()\n",
        "lista.preppend(5)\n",
        "lista.tranversal()"
      ],
      "execution_count": 25,
      "outputs": [
        {
          "output_type": "error",
          "ename": "SyntaxError",
          "evalue": "ignored",
          "traceback": [
            "\u001b[0;36m  File \u001b[0;32m\"<ipython-input-25-71426219d8a8>\"\u001b[0;36m, line \u001b[0;32m3\u001b[0m\n\u001b[0;31m    lista = LinkedList():\u001b[0m\n\u001b[0m                        ^\u001b[0m\n\u001b[0;31mSyntaxError\u001b[0m\u001b[0;31m:\u001b[0m invalid syntax\n"
          ]
        }
      ]
    }
  ]
}